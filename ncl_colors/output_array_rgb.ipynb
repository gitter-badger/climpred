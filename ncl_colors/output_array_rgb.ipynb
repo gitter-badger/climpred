{
 "cells": [
  {
   "cell_type": "code",
   "execution_count": 32,
   "metadata": {
    "collapsed": true
   },
   "outputs": [],
   "source": [
    "import numpy as np\n",
    "import pandas as pd\n",
    "import matplotlib.pyplot as plt\n",
    "import matplotlib.colors as color\n",
    "%matplotlib inline"
   ]
  },
  {
   "cell_type": "code",
   "execution_count": 53,
   "metadata": {
    "collapsed": true
   },
   "outputs": [],
   "source": [
    "rawfile = 'amwg.rgb'"
   ]
  },
  {
   "cell_type": "code",
   "execution_count": 54,
   "metadata": {},
   "outputs": [],
   "source": [
    "raw_table = pd.read_table(rawfile, header=0, delim_whitespace=True)\n",
    "if raw_table.max().max() > 1:\n",
    "    raw_table = raw_table / 255"
   ]
  },
  {
   "cell_type": "code",
   "execution_count": 55,
   "metadata": {
    "collapsed": true
   },
   "outputs": [],
   "source": [
    "amwg = np.array([[ 0.57647059,  0.43921569,  0.85882353],\n",
    "       [ 0.        ,  0.        ,  0.78431373],\n",
    "       [ 0.23529412,  0.39215686,  0.90196078],\n",
    "       [ 0.47058824,  0.60784314,  0.94901961],\n",
    "       [ 0.69019608,  0.87843137,  0.90196078],\n",
    "       [ 0.1254902 ,  0.69803922,  0.66666667],\n",
    "       [ 0.60392157,  0.80392157,  0.19607843],\n",
    "       [ 0.18039216,  0.54509804,  0.34117647],\n",
    "       [ 0.96078431,  0.90196078,  0.74509804],\n",
    "       [ 0.87058824,  0.72156863,  0.52941176],\n",
    "       [ 1.        ,  0.88235294,  0.        ],\n",
    "       [ 1.        ,  0.64705882,  0.        ],\n",
    "       [ 1.        ,  0.27058824,  0.        ],\n",
    "       [ 0.69803922,  0.13333333,  0.13333333],\n",
    "       [ 1.        ,  0.71372549,  0.75686275],\n",
    "       [ 1.        ,  0.07843137,  0.57647059]])"
   ]
  },
  {
   "cell_type": "code",
   "execution_count": 57,
   "metadata": {
    "collapsed": true
   },
   "outputs": [],
   "source": [
    "df = pd.DataFrame(amwg)"
   ]
  },
  {
   "cell_type": "code",
   "execution_count": 58,
   "metadata": {},
   "outputs": [],
   "source": [
    "cmap = color.ListedColormap(df.values)"
   ]
  },
  {
   "cell_type": "code",
   "execution_count": 65,
   "metadata": {},
   "outputs": [
    {
     "data": {
      "text/plain": [
       "<matplotlib.colorbar.Colorbar at 0x11c736a90>"
      ]
     },
     "execution_count": 65,
     "metadata": {},
     "output_type": "execute_result"
    },
    {
     "data": {
      "image/png": "[encoded data removed]",
      "text/plain": [
       "<matplotlib.figure.Figure at 0x11c45c4a8>"
      ]
     },
     "metadata": {},
     "output_type": "display_data"
    }
   ],
   "source": [
    "x = np.random.randn(50,50)\n",
    "plt.pcolor(x,cmap=cmap)\n",
    "plt.colorbar()"
   ]
  }
 ],
 "metadata": {
  "kernelspec": {
   "display_name": "Python 3",
   "language": "python",
   "name": "python3"
  },
  "language_info": {
   "codemirror_mode": {
    "name": "ipython",
    "version": 3
   },
   "file_extension": ".py",
   "mimetype": "text/x-python",
   "name": "python",
   "nbconvert_exporter": "python",
   "pygments_lexer": "ipython3",
   "version": "3.6.1"
  }
 },
 "nbformat": 4,
 "nbformat_minor": 2
}
