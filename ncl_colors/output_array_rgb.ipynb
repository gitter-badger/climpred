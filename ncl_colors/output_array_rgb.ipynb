{
 "cells": [
  {
   "cell_type": "code",
   "execution_count": 5,
   "metadata": {
    "collapsed": true
   },
   "outputs": [],
   "source": [
    "import numpy as np\n",
    "import pandas as pd\n",
    "import matplotlib.pyplot as plt\n",
    "import matplotlib.colors as color\n",
    "%matplotlib inline"
   ]
  },
  {
   "cell_type": "code",
   "execution_count": 18,
   "metadata": {
    "collapsed": true
   },
   "outputs": [],
   "source": [
    "rawfile = 'gmt_cool.rgb'"
   ]
  },
  {
   "cell_type": "code",
   "execution_count": 19,
   "metadata": {
    "collapsed": true
   },
   "outputs": [],
   "source": [
    "raw_table = pd.read_table(rawfile, header=None, delim_whitespace=True)\n",
    "if raw_table.max().max() > 1:\n",
    "    raw_table = raw_table / 255"
   ]
  },
  {
   "cell_type": "code",
   "execution_count": 20,
   "metadata": {},
   "outputs": [
    {
     "data": {
      "text/plain": [
       "array([[ 0.05,  0.95,  1.  ],\n",
       "       [ 0.15,  0.85,  1.  ],\n",
       "       [ 0.25,  0.75,  1.  ],\n",
       "       [ 0.35,  0.65,  1.  ],\n",
       "       [ 0.45,  0.55,  1.  ],\n",
       "       [ 0.55,  0.45,  1.  ],\n",
       "       [ 0.65,  0.35,  1.  ],\n",
       "       [ 0.75,  0.25,  1.  ],\n",
       "       [ 0.85,  0.15,  1.  ],\n",
       "       [ 0.95,  0.05,  1.  ]])"
      ]
     },
     "execution_count": 20,
     "metadata": {},
     "output_type": "execute_result"
    }
   ],
   "source": [
    "raw_table.as_matrix()"
   ]
  }
 ],
 "metadata": {
  "kernelspec": {
   "display_name": "Python 3",
   "language": "python",
   "name": "python3"
  },
  "language_info": {
   "codemirror_mode": {
    "name": "ipython",
    "version": 3
   },
   "file_extension": ".py",
   "mimetype": "text/x-python",
   "name": "python",
   "nbconvert_exporter": "python",
   "pygments_lexer": "ipython3",
   "version": "3.6.1"
  }
 },
 "nbformat": 4,
 "nbformat_minor": 2
}
